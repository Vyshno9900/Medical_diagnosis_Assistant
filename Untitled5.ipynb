{
  "nbformat": 4,
  "nbformat_minor": 0,
  "metadata": {
    "colab": {
      "provenance": [],
      "authorship_tag": "ABX9TyO5USAbzQSQm6jbHOrcm5H1",
      "include_colab_link": true
    },
    "kernelspec": {
      "name": "python3",
      "display_name": "Python 3"
    },
    "language_info": {
      "name": "python"
    }
  },
  "cells": [
    {
      "cell_type": "markdown",
      "metadata": {
        "id": "view-in-github",
        "colab_type": "text"
      },
      "source": [
        "<a href=\"https://colab.research.google.com/github/Vyshno9900/Medical_diagnosis_Assistant/blob/main/Untitled5.ipynb\" target=\"_parent\"><img src=\"https://colab.research.google.com/assets/colab-badge.svg\" alt=\"Open In Colab\"/></a>"
      ]
    },
    {
      "cell_type": "code",
      "execution_count": 3,
      "metadata": {
        "id": "crWZ_QwnMC10",
        "colab": {
          "base_uri": "https://localhost:8080/"
        },
        "outputId": "a697e2eb-92f0-4615-961f-61d1a582a77e"
      },
      "outputs": [
        {
          "output_type": "stream",
          "name": "stdout",
          "text": [
            "Requirement already satisfied: flask in /usr/local/lib/python3.12/dist-packages (3.1.2)\n",
            "Requirement already satisfied: pyngrok in /usr/local/lib/python3.12/dist-packages (7.3.0)\n",
            "Requirement already satisfied: pandas in /usr/local/lib/python3.12/dist-packages (2.2.2)\n",
            "Requirement already satisfied: openpyxl in /usr/local/lib/python3.12/dist-packages (3.1.5)\n",
            "Requirement already satisfied: rapidfuzz in /usr/local/lib/python3.12/dist-packages (3.14.0)\n",
            "Requirement already satisfied: sqlalchemy in /usr/local/lib/python3.12/dist-packages (2.0.43)\n",
            "Requirement already satisfied: blinker>=1.9.0 in /usr/local/lib/python3.12/dist-packages (from flask) (1.9.0)\n",
            "Requirement already satisfied: click>=8.1.3 in /usr/local/lib/python3.12/dist-packages (from flask) (8.2.1)\n",
            "Requirement already satisfied: itsdangerous>=2.2.0 in /usr/local/lib/python3.12/dist-packages (from flask) (2.2.0)\n",
            "Requirement already satisfied: jinja2>=3.1.2 in /usr/local/lib/python3.12/dist-packages (from flask) (3.1.6)\n",
            "Requirement already satisfied: markupsafe>=2.1.1 in /usr/local/lib/python3.12/dist-packages (from flask) (3.0.2)\n",
            "Requirement already satisfied: werkzeug>=3.1.0 in /usr/local/lib/python3.12/dist-packages (from flask) (3.1.3)\n",
            "Requirement already satisfied: PyYAML>=5.1 in /usr/local/lib/python3.12/dist-packages (from pyngrok) (6.0.2)\n",
            "Requirement already satisfied: numpy>=1.26.0 in /usr/local/lib/python3.12/dist-packages (from pandas) (2.0.2)\n",
            "Requirement already satisfied: python-dateutil>=2.8.2 in /usr/local/lib/python3.12/dist-packages (from pandas) (2.9.0.post0)\n",
            "Requirement already satisfied: pytz>=2020.1 in /usr/local/lib/python3.12/dist-packages (from pandas) (2025.2)\n",
            "Requirement already satisfied: tzdata>=2022.7 in /usr/local/lib/python3.12/dist-packages (from pandas) (2025.2)\n",
            "Requirement already satisfied: et-xmlfile in /usr/local/lib/python3.12/dist-packages (from openpyxl) (2.0.0)\n",
            "Requirement already satisfied: greenlet>=1 in /usr/local/lib/python3.12/dist-packages (from sqlalchemy) (3.2.4)\n",
            "Requirement already satisfied: typing-extensions>=4.6.0 in /usr/local/lib/python3.12/dist-packages (from sqlalchemy) (4.15.0)\n",
            "Requirement already satisfied: six>=1.5 in /usr/local/lib/python3.12/dist-packages (from python-dateutil>=2.8.2->pandas) (1.17.0)\n"
          ]
        }
      ],
      "source": [
        "!pip install flask pyngrok pandas openpyxl rapidfuzz sqlalchemy\n"
      ]
    },
    {
      "cell_type": "code",
      "source": [
        "import os, pandas as pd\n",
        "\n",
        "# Define base folder for your app\n",
        "BASE = \"/content/medical_diagnosis_app\"\n",
        "os.makedirs(BASE, exist_ok=True)\n",
        "os.makedirs(f\"{BASE}/templates\", exist_ok=True)\n",
        "os.makedirs(f\"{BASE}/static/img\", exist_ok=True)\n",
        "\n",
        "# ✅ Use the correct uploaded dataset path\n",
        "DATASET = \"/content/icd-10-cm-project.csv\"\n",
        "df = pd.read_csv(DATASET)\n",
        "\n",
        "# ✅ Rename columns to match our app expectations\n",
        "df.rename(columns={\n",
        "    \"definition\": \"Diagnosis\",\n",
        "    \"sub-code\": \"Code\"\n",
        "}, inplace=True)\n",
        "\n",
        "# Check if columns exist after renaming\n",
        "if \"Code\" not in df.columns or \"Diagnosis\" not in df.columns:\n",
        "    raise ValueError(\"❌ CSV must have 'disease' and 'icd10_code' columns!\")\n",
        "\n",
        "# ✅ Save normalized version inside BASE\n",
        "df.to_csv(f\"{BASE}/icd10_normalized.csv\", index=False)\n",
        "print(f\"✅ Loaded {len(df)} ICD-10 codes and saved normalized file at {BASE}/icd10_normalized.csv\")\n"
      ],
      "metadata": {
        "id": "PwJEQa9TMF1a",
        "colab": {
          "base_uri": "https://localhost:8080/"
        },
        "outputId": "9d6d3865-1af7-443d-faf5-6f992db64a20"
      },
      "execution_count": 4,
      "outputs": [
        {
          "output_type": "stream",
          "name": "stdout",
          "text": [
            "✅ Loaded 11243 ICD-10 codes and saved normalized file at /content/medical_diagnosis_app/icd10_normalized.csv\n"
          ]
        }
      ]
    },
    {
      "cell_type": "code",
      "source": [
        "\n",
        "base_html = \"\"\"<!doctype html>\n",
        "<html>\n",
        "<head>\n",
        "<title>Medical Diagnosis Assistant</title>\n",
        "<link href=\"https://cdn.jsdelivr.net/npm/tailwindcss@2/dist/tailwind.min.css\" rel=\"stylesheet\">\n",
        "<style>\n",
        ".hero { background:#0369a1; color:white; padding:40px; text-align:center; }\n",
        "footer { background:#0f172a; color:white; text-align:center; padding:10px; margin-top:20px; }\n",
        "</style>\n",
        "</head>\n",
        "<body class=\"flex flex-col min-h-screen\">\n",
        "\n",
        "<!-- Navbar -->\n",
        "<nav class=\"bg-gray-800 p-4 flex justify-center space-x-6\">\n",
        "  <a href=\"/\" class=\"text-white hover:text-yellow-400\">🏠 Home</a>\n",
        "  <a href=\"/search\" class=\"text-white hover:text-yellow-400\">🔍 Search</a>\n",
        "  <a href=\"/about\" class=\"text-white hover:text-yellow-400\">ℹ️ About</a>\n",
        "</nav>\n",
        "\n",
        "<!-- Hero -->\n",
        "<div class=\"hero\">\n",
        "  <h1 class=\"text-4xl font-bold\">🩺 Medical Diagnosis Assistant</h1>\n",
        "  <p class=\"mt-2\">ICD-10 Disease Codes Made Easy</p>\n",
        "</div>\n",
        "\n",
        "<!-- Content -->\n",
        "<div class=\"p-6 flex-grow\">\n",
        "  {% block content %}{% endblock %}\n",
        "</div>\n",
        "\n",
        "<!-- Footer -->\n",
        "<footer>\n",
        "  <p>Created by <b>VYSHNO BABU THOTA</b> 2025</p>\n",
        "</footer>\n",
        "\n",
        "</body>\n",
        "</html>\"\"\"\n",
        "open(f\"{BASE}/templates/base.html\", \"w\").write(base_html)\n",
        "\n",
        "# Home page\n",
        "home_html = \"\"\"{% extends 'base.html' %}\n",
        "{% block content %}\n",
        "<h2 class=\"text-2xl font-bold mb-4\">Welcome to ICD-10 Explorer</h2>\n",
        "<p class=\"mb-4\">\n",
        "ICD-10 (International Classification of Diseases) is a globally used system\n",
        "for coding diseases, symptoms, and health conditions.\n",
        "This site helps you quickly search for ICD-10 codes and their descriptions.\n",
        "</p>\n",
        "<p class=\"text-gray-600\">\n",
        "Use the 🔍 Search tab above to find any disease by name and get its ICD-10 code instantly.\n",
        "</p>\n",
        "{% endblock %}\"\"\"\n",
        "open(f\"{BASE}/templates/home.html\", \"w\").write(home_html)\n",
        "\n",
        "# Search page\n",
        "search_html = \"\"\"{% extends 'base.html' %}\n",
        "{% block content %}\n",
        "<form action=\"/search\" method=\"get\" class=\"mb-4\">\n",
        "  <input name=\"q\" placeholder=\"Search disease...\" class=\"p-2 text-black w-1/2\">\n",
        "  <button class=\"bg-green-600 p-2 text-white\">Search</button>\n",
        "</form>\n",
        "\n",
        "{% if results %}\n",
        "<table class=\"table-auto w-full border\">\n",
        "<tr class=\"bg-gray-200\"><th class=\"p-2\">ICD-10 Code</th><th class=\"p-2\">Diagnosis</th></tr>\n",
        "{% for r in results %}\n",
        "<tr><td class=\"border p-2\">{{ r.Code }}</td><td class=\"border p-2\">{{ r.Diagnosis }}</td></tr>\n",
        "{% endfor %}\n",
        "</table>\n",
        "{% elif q %}\n",
        "<p class=\"text-red-600\">No results found for \"{{ q }}\"</p>\n",
        "{% endif %}\n",
        "{% endblock %}\"\"\"\n",
        "open(f\"{BASE}/templates/search.html\", \"w\").write(search_html)\n",
        "\n",
        "# About page\n",
        "about_html = \"\"\"{% extends 'base.html' %}\n",
        "{% block content %}\n",
        "<h2 class=\"text-2xl font-bold mb-4\">About This Project</h2>\n",
        "<p>This Medical Diagnosis Assistant helps users quickly find ICD-10 codes for diseases.</p>\n",
        "<p class=\"mt-2\">Features:</p>\n",
        "<ul class=\"list-disc ml-6\">\n",
        "  <li>Search diseases and get their ICD-10 code instantly</li>\n",
        "  <li>Learn about ICD-10 and its importance</li>\n",
        "  <li>Simple, user-friendly interface built with Flask & Tailwind CSS</li>\n",
        "</ul>\n",
        "{% endblock %}\"\"\"\n",
        "open(f\"{BASE}/templates/about.html\", \"w\").write(about_html)\n",
        "\n",
        "print(\"✅ Templates created\")"
      ],
      "metadata": {
        "colab": {
          "base_uri": "https://localhost:8080/"
        },
        "id": "5rlvsoRwYjmc",
        "outputId": "582855aa-4b55-4df9-dd47-aec7fada3ebd"
      },
      "execution_count": 5,
      "outputs": [
        {
          "output_type": "stream",
          "name": "stdout",
          "text": [
            "✅ Templates created\n"
          ]
        }
      ]
    },
    {
      "cell_type": "code",
      "source": [
        "from pyngrok import ngrok, conf\n",
        "\n",
        "# Paste your token here\n",
        "conf.get_default().auth_token = \"32HAPZK7PiYTLpiqOPtooXoTCVy_2WhyMd3UDiARLhDwxrHqo\"\n",
        "print(\"✅ ngrok AuthToken installed\")\n"
      ],
      "metadata": {
        "id": "YcWZy5GZNcDV",
        "colab": {
          "base_uri": "https://localhost:8080/"
        },
        "outputId": "57164a98-d344-4c50-dcb7-c78c2221cad1"
      },
      "execution_count": 6,
      "outputs": [
        {
          "output_type": "stream",
          "name": "stdout",
          "text": [
            "✅ ngrok AuthToken installed\n"
          ]
        }
      ]
    },
    {
      "cell_type": "code",
      "source": [
        "from flask import Flask, render_template, request\n",
        "import pandas as pd\n",
        "import os\n",
        "\n",
        "app = Flask(__name__)\n",
        "\n",
        "# Load your CSV (with columns \"disease\" and \"icd10_code\")\n",
        "df = pd.read_csv(f\"{BASE}/icd10_normalized.csv\")\n",
        "\n",
        "@app.route(\"/\")\n",
        "def home():\n",
        "    return render_template(\"home.html\")\n",
        "\n",
        "@app.route(\"/search\")\n",
        "def search():\n",
        "    q = request.args.get(\"q\", \"\")\n",
        "    results = []\n",
        "    if q:\n",
        "        results = df[df[\"disease\"].str.contains(q, case=False, na=False)].rename(\n",
        "            columns={\"disease\": \"Diagnosis\", \"icd10_code\": \"Code\"}\n",
        "        ).to_dict(orient=\"records\")\n",
        "    return render_template(\"search.html\", q=q, results=results)\n",
        "\n",
        "@app.route(\"/about\")\n",
        "def about():\n",
        "    return render_template(\"about.html\")\n"
      ],
      "metadata": {
        "id": "cCj-y1EZaOnB"
      },
      "execution_count": 7,
      "outputs": []
    },
    {
      "cell_type": "code",
      "source": [
        "from flask import Flask, render_template, request\n",
        "from rapidfuzz import process, fuzz\n",
        "import pandas as pd\n",
        "from pyngrok import ngrok\n",
        "import os\n",
        "\n",
        "BASE = \"/content/medical_diagnosis_app\"\n",
        "\n",
        "# Load normalized data\n",
        "df = pd.read_csv(f\"{BASE}/icd10_normalized.csv\")\n",
        "df.rename(columns={\"disease\": \"Diagnosis\", \"icd10_code\": \"Code\"}, inplace=True)\n",
        "\n",
        "codes = df[\"Code\"].tolist()\n",
        "titles = df[\"Diagnosis\"].tolist()\n",
        "\n",
        "def fuzzy_search(q):\n",
        "    if not q:\n",
        "        return []\n",
        "    matches = process.extract(q, titles, limit=10, scorer=fuzz.WRatio)\n",
        "    return [{\"Code\": codes[idx], \"Diagnosis\": titles[idx]} for _, _, idx in matches]\n",
        "\n",
        "# Flask app (single instance)\n",
        "app = Flask(__name__, template_folder=f\"{BASE}/templates\", static_folder=f\"{BASE}/static\")\n",
        "\n",
        "@app.route(\"/\")\n",
        "def home():\n",
        "    return render_template(\"home.html\")\n",
        "\n",
        "@app.route(\"/search\")\n",
        "def search():\n",
        "    q = request.args.get(\"q\", \"\")\n",
        "    results = fuzzy_search(q) if q else []\n",
        "    return render_template(\"search.html\", q=q, results=results)\n",
        "\n",
        "@app.route(\"/about\")\n",
        "def about():\n",
        "    return render_template(\"about.html\")\n",
        "\n",
        "# Run on Colab with ngrok\n",
        "port = 5000\n",
        "public_url = ngrok.connect(port).public_url\n",
        "print(\"🌍 Your website is live at:\", public_url)\n",
        "app.run(port=port)\n"
      ],
      "metadata": {
        "colab": {
          "base_uri": "https://localhost:8080/"
        },
        "id": "vwJ75pAiNAFp",
        "outputId": "046b4aeb-9c58-4235-c208-aef4fe8877c9"
      },
      "execution_count": null,
      "outputs": [
        {
          "output_type": "stream",
          "name": "stdout",
          "text": [
            "🌍 Your website is live at: https://12d02079edc5.ngrok-free.app\n",
            " * Serving Flask app '__main__'\n",
            " * Debug mode: off\n"
          ]
        },
        {
          "output_type": "stream",
          "name": "stderr",
          "text": [
            "INFO:werkzeug:\u001b[31m\u001b[1mWARNING: This is a development server. Do not use it in a production deployment. Use a production WSGI server instead.\u001b[0m\n",
            " * Running on http://127.0.0.1:5000\n",
            "INFO:werkzeug:\u001b[33mPress CTRL+C to quit\u001b[0m\n",
            "INFO:werkzeug:127.0.0.1 - - [05/Sep/2025 10:44:14] \"GET / HTTP/1.1\" 200 -\n",
            "INFO:werkzeug:127.0.0.1 - - [05/Sep/2025 10:44:15] \"\u001b[33mGET /favicon.ico HTTP/1.1\u001b[0m\" 404 -\n",
            "INFO:werkzeug:127.0.0.1 - - [05/Sep/2025 10:44:16] \"GET /search HTTP/1.1\" 200 -\n",
            "INFO:werkzeug:127.0.0.1 - - [05/Sep/2025 10:44:23] \"GET /search?q=typhoid HTTP/1.1\" 200 -\n",
            "INFO:werkzeug:127.0.0.1 - - [05/Sep/2025 10:44:27] \"GET / HTTP/1.1\" 200 -\n",
            "INFO:werkzeug:127.0.0.1 - - [05/Sep/2025 10:44:29] \"GET /about HTTP/1.1\" 200 -\n",
            "INFO:werkzeug:127.0.0.1 - - [05/Sep/2025 10:44:32] \"GET / HTTP/1.1\" 200 -\n",
            "INFO:werkzeug:127.0.0.1 - - [05/Sep/2025 10:44:38] \"GET /search HTTP/1.1\" 200 -\n"
          ]
        }
      ]
    },
    {
      "cell_type": "code",
      "source": [
        "print(app.url_map)\n"
      ],
      "metadata": {
        "colab": {
          "base_uri": "https://localhost:8080/"
        },
        "id": "CJaTDel7bwQI",
        "outputId": "e820cdf9-aa29-41e4-f150-35bef179dba5"
      },
      "execution_count": 9,
      "outputs": [
        {
          "output_type": "stream",
          "name": "stdout",
          "text": [
            "Map([<Rule '/static/<filename>' (HEAD, OPTIONS, GET) -> static>,\n",
            " <Rule '/' (HEAD, OPTIONS, GET) -> home>])\n"
          ]
        }
      ]
    },
    {
      "cell_type": "code",
      "source": [],
      "metadata": {
        "id": "O859lZCYNc6d"
      },
      "execution_count": 9,
      "outputs": []
    }
  ]
}